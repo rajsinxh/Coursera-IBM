{
 "cells": [
  {
   "cell_type": "markdown",
   "metadata": {},
   "source": [
    "# Capstone Project : The Battle of Neighbourhood (Part - 1)"
   ]
  },
  {
   "cell_type": "markdown",
   "metadata": {},
   "source": [
    "## Introducion"
   ]
  },
  {
   "cell_type": "markdown",
   "metadata": {},
   "source": [
    "A restaurant is a business establishment that serves prepared meals and beverages on the premises in exchange for a payment.\n",
    "\n",
    "The food is usually prepared by a chef. The term covers a multiplicity of places and a great diversity of types of cuisine, both local and foreign. The restaurants are sometimes the device reserved for serving meals within a larger entity (hotel, university, airport ...), we speak then of collective restaurant as opposed to the kitchen site. They can also be associated with a catering or grocery business. The restaurant offers more or less comfort conditions, and the restaurant is called \"fast\" when the customer can order and eat in minutes or tens of minutes, possibly standing.\n",
    "\n",
    "While searching on the internet I found that Toronto has several types of restaurants: • Specific theme restaurants such as: Greek restaurants, French restaurants, Halal restaurants, Jewish restaurants and many more. • 2-there are restaurants in hotels like the Drake Hotel. • There are pizzerias also like Pizza Nova or Pizzayolo. • 4-bistros like Bistro 990 • 5- Global restaurants like Big smoke Burger or fan's restaurant. • 6- Restoring bars like the Rivoli\n",
    "\n",
    "All this leads to a competitive market that requires distinguishing which are the criteria of location to choose to optimize income:\n",
    "\n",
    "• Presence of supplier nearby?\n",
    "\n",
    "• The demography of Toronto.\n",
    "\n",
    "• Number of competitors nearby\n",
    "\n",
    "• The demography of the neighborhood.\n",
    "\n",
    "• The contribution of the people of Toronto.\n",
    "\n",
    "• The list can continue ... \n",
    "\n",
    "\n",
    "This analysis allows an investor to be able to choose an optimal location for his business and can use this analysis to move or open an extension of his business."
   ]
  }
 ],
 "metadata": {
  "kernelspec": {
   "display_name": "Python 3",
   "language": "python",
   "name": "python3"
  },
  "language_info": {
   "codemirror_mode": {
    "name": "ipython",
    "version": 3
   },
   "file_extension": ".py",
   "mimetype": "text/x-python",
   "name": "python",
   "nbconvert_exporter": "python",
   "pygments_lexer": "ipython3",
   "version": "3.7.6"
  }
 },
 "nbformat": 4,
 "nbformat_minor": 4
}
