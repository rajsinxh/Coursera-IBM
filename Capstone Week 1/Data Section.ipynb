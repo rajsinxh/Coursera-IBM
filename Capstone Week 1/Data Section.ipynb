{
 "cells": [
  {
   "cell_type": "markdown",
   "metadata": {},
   "source": [
    "# Capstone Project - The Battle of Neighbourhoods (Part - 1)"
   ]
  },
  {
   "cell_type": "markdown",
   "metadata": {},
   "source": [
    "The city of Toronto is the most populated city in Canada, it is the capital of the province of Ontario and home to more than 2.7 million people, making it the fourth most populated city in America. North. In the 20th century, the city experienced significant industrial development and subsequently became the English-speaking banking, financial and commercial heart of Canada and was named in the 21st century as one of the most important financial centers in the world thanks to his medical research, his film production, technology and computer science, the arts, education and many more.\n",
    "\n",
    "With its diverse cultural institutions, including many museums and art galleries, festivals and public events, and many more, Toronto becomes America's most visited city.\n",
    "\n",
    "These important tourist visits generate a very high competitive on the market. As it is a very developed city, so is the business case. That's why any new investment or company that wants to move to Toronto needs to use market-based insights that will help them understand the business environment, allowing for a strategy to reduce risk. And increase the return on investment."
   ]
  },
  {
   "cell_type": "markdown",
   "metadata": {},
   "source": [
    "Data Source : https://www.kaggle.com/servietsky/tronto-neighbourhood-profiles-2016"
   ]
  }
 ],
 "metadata": {
  "kernelspec": {
   "display_name": "Python 3",
   "language": "python",
   "name": "python3"
  },
  "language_info": {
   "codemirror_mode": {
    "name": "ipython",
    "version": 3
   },
   "file_extension": ".py",
   "mimetype": "text/x-python",
   "name": "python",
   "nbconvert_exporter": "python",
   "pygments_lexer": "ipython3",
   "version": "3.7.6"
  }
 },
 "nbformat": 4,
 "nbformat_minor": 4
}
